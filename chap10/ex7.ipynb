{
 "cells": [
  {
   "cell_type": "code",
   "execution_count": 39,
   "metadata": {
    "autoscroll": false,
    "collapsed": false,
    "ein.hycell": false,
    "ein.tags": "worksheet-0",
    "slideshow": {
     "slide_type": "-"
    }
   },
   "outputs": [],
   "source": [
    "import pandas as pd\n",
    "\n",
    "from sklearn.metrics.pairwise import euclidean_distances\n",
    "from scipy.stats import pearsonr"
   ]
  },
  {
   "cell_type": "code",
   "execution_count": 34,
   "metadata": {
    "autoscroll": false,
    "collapsed": false,
    "ein.hycell": false,
    "ein.tags": "worksheet-0",
    "slideshow": {
     "slide_type": "-"
    }
   },
   "outputs": [],
   "source": [
    "USArrests = pd.read_csv(\"USArrests.csv\", index_col=0)\n",
    "stat = USArrests.describe()\n",
    "mean = stat.loc['mean']\n",
    "std = stat.loc['std']\n",
    "\n",
    "data = (USArrests - mean) / std"
   ]
  },
  {
   "cell_type": "raw",
   "metadata": {
    "ein.tags": "worksheet-0",
    "slideshow": {
     "slide_type": "-"
    }
   },
   "source": [
    "The means are close to 0 and the standard deviations are 1."
   ]
  },
  {
   "cell_type": "code",
   "execution_count": 35,
   "metadata": {
    "autoscroll": false,
    "collapsed": false,
    "ein.hycell": false,
    "ein.tags": "worksheet-0",
    "slideshow": {
     "slide_type": "-"
    }
   },
   "outputs": [
    {
     "data": {
      "text/html": [
       "<div>\n<style scoped>\n    .dataframe tbody tr th:only-of-type {\n        vertical-align: middle;\n    }\n\n    .dataframe tbody tr th {\n        vertical-align: top;\n    }\n\n    .dataframe thead th {\n        text-align: right;\n    }\n</style>\n<table border=\"1\" class=\"dataframe\">\n  <thead>\n    <tr style=\"text-align: right;\">\n      <th></th>\n      <th>Murder</th>\n      <th>Assault</th>\n      <th>UrbanPop</th>\n      <th>Rape</th>\n    </tr>\n  </thead>\n  <tbody>\n    <tr>\n      <th>count</th>\n      <td>5.000000e+01</td>\n      <td>5.000000e+01</td>\n      <td>5.000000e+01</td>\n      <td>5.000000e+01</td>\n    </tr>\n    <tr>\n      <th>mean</th>\n      <td>1.543210e-16</td>\n      <td>1.115774e-16</td>\n      <td>-4.307665e-16</td>\n      <td>8.704149e-16</td>\n    </tr>\n    <tr>\n      <th>std</th>\n      <td>1.000000e+00</td>\n      <td>1.000000e+00</td>\n      <td>1.000000e+00</td>\n      <td>1.000000e+00</td>\n    </tr>\n    <tr>\n      <th>min</th>\n      <td>-1.604405e+00</td>\n      <td>-1.509042e+00</td>\n      <td>-2.317136e+00</td>\n      <td>-1.487447e+00</td>\n    </tr>\n    <tr>\n      <th>25%</th>\n      <td>-8.524835e-01</td>\n      <td>-7.410815e-01</td>\n      <td>-7.627068e-01</td>\n      <td>-6.573508e-01</td>\n    </tr>\n    <tr>\n      <th>50%</th>\n      <td>-1.235217e-01</td>\n      <td>-1.411127e-01</td>\n      <td>3.177945e-02</td>\n      <td>-1.208577e-01</td>\n    </tr>\n    <tr>\n      <th>75%</th>\n      <td>7.948553e-01</td>\n      <td>9.388312e-01</td>\n      <td>8.435371e-01</td>\n      <td>5.277383e-01</td>\n    </tr>\n    <tr>\n      <th>max</th>\n      <td>2.206860e+00</td>\n      <td>1.994776e+00</td>\n      <td>1.758923e+00</td>\n      <td>2.644350e+00</td>\n    </tr>\n  </tbody>\n</table>\n</div>"
      ],
      "text/plain": [
       "             Murder       Assault      UrbanPop          Rape\ncount  5.000000e+01  5.000000e+01  5.000000e+01  5.000000e+01\nmean   1.543210e-16  1.115774e-16 -4.307665e-16  8.704149e-16\nstd    1.000000e+00  1.000000e+00  1.000000e+00  1.000000e+00\nmin   -1.604405e+00 -1.509042e+00 -2.317136e+00 -1.487447e+00\n25%   -8.524835e-01 -7.410815e-01 -7.627068e-01 -6.573508e-01\n50%   -1.235217e-01 -1.411127e-01  3.177945e-02 -1.208577e-01\n75%    7.948553e-01  9.388312e-01  8.435371e-01  5.277383e-01\nmax    2.206860e+00  1.994776e+00  1.758923e+00  2.644350e+00"
      ]
     },
     "execution_count": 35,
     "metadata": {},
     "output_type": "execute_result"
    }
   ],
   "source": [
    "data.describe()"
   ]
  },
  {
   "cell_type": "code",
   "execution_count": 50,
   "metadata": {
    "autoscroll": false,
    "collapsed": false,
    "ein.hycell": false,
    "ein.tags": "worksheet-0",
    "slideshow": {
     "slide_type": "-"
    }
   },
   "outputs": [
    {
     "name": "stdout",
     "output_type": "stream",
     "text": [
      "0.09764744820086246\n",
      "0.2750058494202994\n"
     ]
    }
   ],
   "source": [
    "X = data.to_numpy()\n",
    "\n",
    "dist = euclidean_distances(X, X)\n",
    "r_01, _ = pearsonr(X[0], X[1])\n",
    "r_02, _ = pearsonr(X[0], X[2])\n",
    "\n",
    "#print(\"r_01: {}\".format(r_01))\n",
    "#print(\"dist_01: {}\\n\".format(dist[0, 1]))\n",
    "\n",
    "#print(\"r_02: {}\".format(r_02))\n",
    "#print(\"dist_02: {}\".format(dist[0, 2]))\n",
    "\n",
    "print((1 - r_01) / (dist[0,1])**2)\n",
    "print((1 - r_02) / (dist[0,2])**2)"
   ]
  }
 ],
 "metadata": {
  "kernelspec": {
   "argv": [
    "/home/mak/anaconda3/bin/python",
    "-m",
    "ipykernel_launcher",
    "-f",
    "{connection_file}"
   ],
   "display_name": "Python 3",
   "env": null,
   "interrupt_mode": "signal",
   "language": "python",
   "metadata": null,
   "name": "python3"
  },
  "name": "Untitled.ipynb"
 },
 "nbformat": 4,
 "nbformat_minor": 2
}
