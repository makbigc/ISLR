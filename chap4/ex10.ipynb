{
 "cells": [
  {
   "cell_type": "code",
   "execution_count": 13,
   "metadata": {
    "autoscroll": false,
    "collapsed": false,
    "ein.hycell": false,
    "ein.tags": "worksheet-0",
    "slideshow": {
     "slide_type": "-"
    }
   },
   "outputs": [],
   "source": [
    "import pandas as pd\n",
    "\n",
    "from sklearn.linear_model import LogisticRegression\n",
    "from sklearn.metrics import confusion_matrix"
   ]
  },
  {
   "cell_type": "code",
   "execution_count": 2,
   "metadata": {
    "autoscroll": false,
    "collapsed": false,
    "ein.hycell": false,
    "ein.tags": "worksheet-0",
    "slideshow": {
     "slide_type": "-"
    }
   },
   "outputs": [],
   "source": [
    "weekly = pd.read_csv(\"../datasets/Weekly.csv\", index_col=0)"
   ]
  },
  {
   "cell_type": "code",
   "execution_count": 12,
   "metadata": {
    "autoscroll": false,
    "collapsed": false,
    "ein.hycell": false,
    "ein.tags": "worksheet-0",
    "slideshow": {
     "slide_type": "-"
    }
   },
   "outputs": [
    {
     "name": "stdout",
     "output_type": "stream",
     "text": [
      "Coef:[[-0.04123854  0.05840384 -0.01605138 -0.02776243 -0.01446302 -0.02270963]]\n",
      "The most significant predictor is Lag2\n"
     ]
    }
   ],
   "source": [
    "y = weekly.Direction.replace({'Up':1, 'Down':0}).to_numpy()\n",
    "X = weekly.iloc[:,[1,2,3,4,5,6]].to_numpy()\n",
    "\n",
    "clf = LogisticRegression(solver='lbfgs')\n",
    "clf.fit(X, y)\n",
    "print(\"Coef:{}\".format(clf.coef_))\n",
    "print(\"The most significant predictor is Lag2\")"
   ]
  },
  {
   "cell_type": "code",
   "execution_count": 17,
   "metadata": {
    "autoscroll": false,
    "collapsed": false,
    "ein.hycell": false,
    "ein.tags": "worksheet-0",
    "slideshow": {
     "slide_type": "-"
    }
   },
   "outputs": [
    {
     "data": {
      "text/plain": [
       "array([[ 54, 430],\n       [ 48, 557]])"
      ]
     },
     "execution_count": 17,
     "metadata": {},
     "output_type": "execute_result"
    }
   ],
   "source": [
    "y_pred = clf.predict(X)\n",
    "\n",
    "matrix = confusion_matrix(y, y_pred)\n",
    "matrix"
   ]
  },
  {
   "cell_type": "code",
   "execution_count": 24,
   "metadata": {
    "autoscroll": false,
    "collapsed": false,
    "ein.hycell": false,
    "ein.tags": "worksheet-0",
    "slideshow": {
     "slide_type": "-"
    }
   },
   "outputs": [
    {
     "name": "stdout",
     "output_type": "stream",
     "text": [
      "% of Up is mislabelled: 88.84297520661157\n",
      "% of correct prediction: 56.10651974288338\n"
     ]
    }
   ],
   "source": [
    "print(\"% of Up is mislabelled: {}\".format(matrix[0,1]/matrix.sum(axis=1)[0]*100))\n",
    "print(\"% of correct prediction: {}\".format(matrix.diagonal().sum()/matrix.sum()*100))"
   ]
  },
  {
   "cell_type": "code",
   "execution_count": 26,
   "metadata": {
    "autoscroll": false,
    "collapsed": false,
    "ein.hycell": false,
    "ein.tags": "worksheet-0",
    "slideshow": {
     "slide_type": "-"
    }
   },
   "outputs": [],
   "source": [
    "clf_d = LogisticRegression(solver='lbfgs')\n",
    "train_idx = weekly.Year.isin(range(1990, 2009))\n",
    "X_train = weekly[train_idx].iloc[:,[2]].to_numpy()\n",
    "X_test = weekly[~train_idx].iloc[:,[2]].to_numpy()\n",
    "clf_d.fit(X_train, y[train_idx])\n",
    "\n",
    "y_pred = clf_d.predict(X_test)\n",
    "matrix_d = confusion_matrix(y[~train_idx], y_pred)"
   ]
  },
  {
   "cell_type": "code",
   "execution_count": 27,
   "metadata": {
    "autoscroll": false,
    "collapsed": false,
    "ein.hycell": false,
    "ein.tags": "worksheet-0",
    "slideshow": {
     "slide_type": "-"
    }
   },
   "outputs": [
    {
     "name": "stdout",
     "output_type": "stream",
     "text": [
      "% of Up is mislabelled: 79.06976744186046\n",
      "% of correct prediction: 62.5\n"
     ]
    }
   ],
   "source": [
    "print(\"% of Up is mislabelled: {}\".format(matrix_d[0,1]/matrix_d.sum(axis=1)[0]*100))\n",
    "print(\"% of correct prediction: {}\".format(matrix_d.diagonal().sum()/matrix_d.sum()*100))"
   ]
  }
 ],
 "metadata": {
  "kernelspec": {
   "argv": [
    "/home/mak/anaconda3/bin/python",
    "-m",
    "ipykernel_launcher",
    "-f",
    "{connection_file}"
   ],
   "display_name": "Python 3",
   "env": null,
   "interrupt_mode": "signal",
   "language": "python",
   "metadata": null,
   "name": "python3"
  },
  "name": "ex10.ipynb"
 },
 "nbformat": 4,
 "nbformat_minor": 2
}
