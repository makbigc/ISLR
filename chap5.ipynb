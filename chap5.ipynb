{
 "cells": [
  {
   "cell_type": "code",
   "execution_count": 16,
   "metadata": {
    "autoscroll": false,
    "collapsed": false,
    "ein.hycell": false,
    "ein.tags": "worksheet-0",
    "slideshow": {
     "slide_type": "-"
    }
   },
   "outputs": [],
   "source": [
    "import pandas as pd\n",
    "import numpy as np\n",
    "\n",
    "import matplotlib.pyplot as plt\n",
    "\n",
    "from scipy.stats import norm\n",
    "from sklearn.linear_model import LinearRegression\n",
    "from sklearn.preprocessing import PolynomialFeatures\n",
    "from sklearn.pipeline import Pipeline, make_pipeline\n",
    "from sklearn.model_selection import cross_val_score\n",
    "from sklearn.metrics import mean_squared_error"
   ]
  },
  {
   "cell_type": "raw",
   "metadata": {
    "ein.tags": "worksheet-0",
    "slideshow": {
     "slide_type": "-"
    }
   },
   "source": [
    "Exercise 8"
   ]
  },
  {
   "cell_type": "code",
   "execution_count": 21,
   "metadata": {
    "autoscroll": false,
    "collapsed": false,
    "ein.hycell": false,
    "ein.tags": "worksheet-0",
    "slideshow": {
     "slide_type": "-"
    }
   },
   "outputs": [],
   "source": [
    "np.random.seed(seed=2)\n",
    "X = norm().rvs(size=100)\n",
    "\n",
    "y = X - 2 * X ** 2 + norm().rvs(size=100)\n",
    "X = X[:, np.newaxis]"
   ]
  },
  {
   "cell_type": "code",
   "execution_count": 13,
   "metadata": {
    "autoscroll": false,
    "collapsed": false,
    "ein.hycell": false,
    "ein.tags": "worksheet-0",
    "slideshow": {
     "slide_type": "-"
    }
   },
   "outputs": [
    {
     "data": {
      "text/plain": [
       "<matplotlib.collections.PathCollection at 0x7f33e37ef940>"
      ]
     },
     "execution_count": 13,
     "metadata": {},
     "output_type": "execute_result"
    },
    {
     "data": {
      "image/png": "[encoded data removed]",
      "text/plain": [
       "<Figure size 432x288 with 1 Axes>"
      ]
     },
     "metadata": {},
     "output_type": "display_data"
    }
   ],
   "source": [
    "plt.scatter(X, y)"
   ]
  },
  {
   "cell_type": "code",
   "execution_count": 14,
   "metadata": {
    "autoscroll": false,
    "collapsed": false,
    "ein.hycell": false,
    "ein.tags": "worksheet-0",
    "slideshow": {
     "slide_type": "-"
    }
   },
   "outputs": [],
   "source": [
    "def make_model(degree):\n",
    "    poly = PolynomialFeatures(degree)\n",
    "    reg = LinearRegression(fit_intercept=False)\n",
    "    return make_pipeline(poly, reg)"
   ]
  },
  {
   "cell_type": "code",
   "execution_count": 24,
   "metadata": {
    "autoscroll": false,
    "collapsed": false,
    "ein.hycell": false,
    "ein.tags": "worksheet-0",
    "slideshow": {
     "slide_type": "-"
    }
   },
   "outputs": [
    {
     "name": "stdout",
     "output_type": "stream",
     "text": [
      "degree\tloccv\n",
      "1\t-11.610208269693622\n",
      "2\t-1.2652839413336219\n"
     ]
    },
    {
     "name": "stdout",
     "output_type": "stream",
     "text": [
      "3\t-1.2820418215169616\n",
      "4\t-1.3165915804276804\n"
     ]
    }
   ],
   "source": [
    "print(\"degree\\tloccv\")\n",
    "\n",
    "for degree in range(1, 5):\n",
    "    poly = make_model(degree)\n",
    "    scores = cross_val_score(poly, X, y, cv=100, scoring='neg_mean_squared_error')\n",
    "    loocv_error = sum(scores)/100\n",
    "    print(\"%s\\t%s\" % (degree, loocv_error))"
   ]
  },
  {
   "cell_type": "code",
   "execution_count": 29,
   "metadata": {
    "autoscroll": false,
    "collapsed": false,
    "ein.hycell": false,
    "ein.tags": "worksheet-0",
    "slideshow": {
     "slide_type": "-"
    }
   },
   "outputs": [
    {
     "name": "stdout",
     "output_type": "stream",
     "text": [
      "degree\tloccv\n",
      "1\t-9.529626915943641\n",
      "2\t-0.8835970575271189\n"
     ]
    },
    {
     "name": "stdout",
     "output_type": "stream",
     "text": [
      "3\t-0.8958709087501779\n",
      "4\t-0.9056248631677509\n"
     ]
    }
   ],
   "source": [
    "np.random.seed(seed=4)\n",
    "X2 = norm().rvs(size=100)\n",
    "\n",
    "y2 = X2 - 2 * X2 ** 2 + norm().rvs(size=100)\n",
    "X2 = X2[:, np.newaxis]\n",
    "\n",
    "print(\"degree\\tloccv\")\n",
    "\n",
    "for degree in range(1, 5):\n",
    "    poly = make_model(degree)\n",
    "    scores = cross_val_score(poly, X2, y2, cv=100, scoring='neg_mean_squared_error')\n",
    "    loocv_error = sum(scores)/100\n",
    "    print(\"%s\\t%s\" % (degree, loocv_error))"
   ]
  }
 ],
 "metadata": {
  "kernelspec": {
   "argv": [
    "/home/mak/anaconda3/bin/python",
    "-m",
    "ipykernel_launcher",
    "-f",
    "{connection_file}"
   ],
   "display_name": "Python 3",
   "env": null,
   "interrupt_mode": "signal",
   "language": "python",
   "metadata": null,
   "name": "python3"
  },
  "name": "chap5.ipynb"
 },
 "nbformat": 4,
 "nbformat_minor": 2
}
