{
 "cells": [
  {
   "cell_type": "code",
   "execution_count": 37,
   "metadata": {
    "autoscroll": false,
    "collapsed": false,
    "ein.hycell": false,
    "ein.tags": "worksheet-0",
    "slideshow": {
     "slide_type": "-"
    }
   },
   "outputs": [],
   "source": [
    "import pandas as pd"
   ]
  },
  {
   "cell_type": "code",
   "execution_count": 47,
   "metadata": {
    "autoscroll": false,
    "collapsed": false,
    "ein.hycell": false,
    "ein.tags": "worksheet-0",
    "slideshow": {
     "slide_type": "-"
    }
   },
   "outputs": [],
   "source": [
    "Auto = pd.read_csv(\"Auto.csv\")\n",
    "\n",
    "# The column horsepower contains the string \"?\"\n",
    "row_with_ques = Auto[Auto.horsepower == \"?\"].index\n",
    "Auto.drop(row_with_ques, inplace=True)\n",
    "\n",
    "median = Auto.mpg.median()\n",
    "y = (Auto.mpg > median) * 1\n",
    "\n",
    "# The first column is milage and the last column is car name\n",
    "# So we get rid of them\n",
    "X = Auto.iloc[:, range(1,7)].to_numpy()"
   ]
  },
  {
   "cell_type": "code",
   "execution_count": 51,
   "metadata": {
    "autoscroll": false,
    "collapsed": false,
    "ein.hycell": false,
    "ein.tags": "worksheet-0",
    "slideshow": {
     "slide_type": "-"
    }
   },
   "outputs": [
    {
     "name": "stderr",
     "output_type": "stream",
     "text": [
      "/home/mak/anaconda3/lib/python3.7/site-packages/sklearn/model_selection/_search.py:842: DeprecationWarning: The default of the `iid` parameter will change from True to False in version 0.22 and will be removed in 0.24. This will change numeric results when test-set sizes are unequal.\n",
      "  DeprecationWarning)\n"
     ]
    },
    {
     "data": {
      "text/plain": [
       "GridSearchCV(cv=5, error_score='raise-deprecating',\n       estimator=SVC(C=1.0, cache_size=200, class_weight=None, coef0=0.0,\n  decision_function_shape='ovr', degree=3, gamma='auto_deprecated',\n  kernel='linear', max_iter=-1, probability=False, random_state=None,\n  shrinking=True, tol=0.001, verbose=False),\n       fit_params=None, iid='warn', n_jobs=None,\n       param_grid=[{'C': [1, 10, 100, 1000]}], pre_dispatch='2*n_jobs',\n       refit=True, return_train_score='warn', scoring=None, verbose=0)"
      ]
     },
     "execution_count": 51,
     "metadata": {},
     "output_type": "execute_result"
    }
   ],
   "source": [
    "from sklearn.svm import SVC\n",
    "from sklearn.model_selection import GridSearchCV\n",
    "\n",
    "tuned_parameters = [{'C':[1, 10, 100, 1000]}]\n",
    "clf = GridSearchCV(SVC(kernel='linear'), tuned_parameters, cv=5)\n",
    "clf.fit(X, y)"
   ]
  },
  {
   "cell_type": "code",
   "execution_count": 53,
   "metadata": {
    "autoscroll": false,
    "collapsed": false,
    "ein.hycell": false,
    "ein.tags": "worksheet-0",
    "slideshow": {
     "slide_type": "-"
    }
   },
   "outputs": [
    {
     "name": "stderr",
     "output_type": "stream",
     "text": [
      "/home/mak/anaconda3/lib/python3.7/site-packages/sklearn/utils/deprecation.py:125: FutureWarning: You are accessing a training score ('split0_train_score'), which will not be available by default any more in 0.21. If you need training scores, please set return_train_score=True\n",
      "  warnings.warn(*warn_args, **warn_kwargs)\n",
      "/home/mak/anaconda3/lib/python3.7/site-packages/sklearn/utils/deprecation.py:125: FutureWarning: You are accessing a training score ('split1_train_score'), which will not be available by default any more in 0.21. If you need training scores, please set return_train_score=True\n",
      "  warnings.warn(*warn_args, **warn_kwargs)\n",
      "/home/mak/anaconda3/lib/python3.7/site-packages/sklearn/utils/deprecation.py:125: FutureWarning: You are accessing a training score ('split2_train_score'), which will not be available by default any more in 0.21. If you need training scores, please set return_train_score=True\n",
      "  warnings.warn(*warn_args, **warn_kwargs)\n",
      "/home/mak/anaconda3/lib/python3.7/site-packages/sklearn/utils/deprecation.py:125: FutureWarning: You are accessing a training score ('split3_train_score'), which will not be available by default any more in 0.21. If you need training scores, please set return_train_score=True\n",
      "  warnings.warn(*warn_args, **warn_kwargs)\n",
      "/home/mak/anaconda3/lib/python3.7/site-packages/sklearn/utils/deprecation.py:125: FutureWarning: You are accessing a training score ('split4_train_score'), which will not be available by default any more in 0.21. If you need training scores, please set return_train_score=True\n",
      "  warnings.warn(*warn_args, **warn_kwargs)\n",
      "/home/mak/anaconda3/lib/python3.7/site-packages/sklearn/utils/deprecation.py:125: FutureWarning: You are accessing a training score ('mean_train_score'), which will not be available by default any more in 0.21. If you need training scores, please set return_train_score=True\n",
      "  warnings.warn(*warn_args, **warn_kwargs)\n",
      "/home/mak/anaconda3/lib/python3.7/site-packages/sklearn/utils/deprecation.py:125: FutureWarning: You are accessing a training score ('std_train_score'), which will not be available by default any more in 0.21. If you need training scores, please set return_train_score=True\n",
      "  warnings.warn(*warn_args, **warn_kwargs)\n"
     ]
    },
    {
     "data": {
      "text/plain": [
       "{'mean_fit_time': array([0.5679472 , 1.12159004, 1.57585859, 1.56224332]),\n 'std_fit_time': array([0.24547862, 0.47586404, 0.58130287, 1.0132154 ]),\n 'mean_score_time': array([0.00042729, 0.00042462, 0.00043249, 0.00042853]),\n 'std_score_time': array([6.18125169e-06, 5.02152772e-06, 1.09703640e-05, 6.13361625e-06]),\n 'param_C': masked_array(data=[1, 10, 100, 1000],\n              mask=[False, False, False, False],\n        fill_value='?',\n             dtype=object),\n 'params': [{'C': 1}, {'C': 10}, {'C': 100}, {'C': 1000}],\n 'split0_test_score': array([0.8   , 0.7875, 0.8125, 0.8   ]),\n 'split1_test_score': array([0.91025641, 0.91025641, 0.91025641, 0.91025641]),\n 'split2_test_score': array([0.87179487, 0.8974359 , 0.8974359 , 0.8974359 ]),\n 'split3_test_score': array([0.94871795, 0.96153846, 0.96153846, 0.96153846]),\n 'split4_test_score': array([0.79487179, 0.79487179, 0.79487179, 0.79487179]),\n 'mean_test_score': array([0.86479592, 0.86989796, 0.875     , 0.87244898]),\n 'std_test_score': array([0.06043253, 0.06820306, 0.06254904, 0.06524293]),\n 'rank_test_score': array([4, 3, 1, 2], dtype=int32),\n 'split0_train_score': array([0.91987179, 0.91666667, 0.92307692, 0.91666667]),\n 'split1_train_score': array([0.89808917, 0.89490446, 0.89490446, 0.89490446]),\n 'split2_train_score': array([0.93630573, 0.91719745, 0.91719745, 0.91719745]),\n 'split3_train_score': array([0.88853503, 0.89490446, 0.89171975, 0.89171975]),\n 'split4_train_score': array([0.91719745, 0.91401274, 0.91401274, 0.91401274]),\n 'mean_train_score': array([0.91199984, 0.90753715, 0.90818226, 0.90690021]),\n 'std_train_score': array([0.01687521, 0.01037085, 0.01252544, 0.0111924 ])}"
      ]
     },
     "execution_count": 53,
     "metadata": {},
     "output_type": "execute_result"
    }
   ],
   "source": [
    "clf.cv_results_"
   ]
  }
 ],
 "metadata": {
  "kernelspec": {
   "argv": [
    "/home/mak/anaconda3/bin/python",
    "-m",
    "ipykernel_launcher",
    "-f",
    "{connection_file}"
   ],
   "display_name": "Python 3",
   "env": null,
   "interrupt_mode": "signal",
   "language": "python",
   "metadata": null,
   "name": "python3"
  },
  "name": "Untitled.ipynb"
 },
 "nbformat": 4,
 "nbformat_minor": 2
}
